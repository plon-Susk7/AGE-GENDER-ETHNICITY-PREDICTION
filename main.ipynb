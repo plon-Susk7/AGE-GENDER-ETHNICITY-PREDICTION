{
 "cells": [
  {
   "cell_type": "code",
   "execution_count": 58,
   "id": "7570eb9f-13a7-40cf-90e5-27229d7b7991",
   "metadata": {},
   "outputs": [
    {
     "data": {
      "text/plain": [
       "'2.0.1+cu117'"
      ]
     },
     "execution_count": 58,
     "metadata": {},
     "output_type": "execute_result"
    }
   ],
   "source": [
    "import pandas as pd\n",
    "import numpy as np\n",
    "import torch\n",
    "\n",
    "torch.__version__"
   ]
  },
  {
   "cell_type": "markdown",
   "id": "61896e98-bdcb-46a1-a319-bb80032ca98a",
   "metadata": {},
   "source": [
    "Data link : https://www.kaggle.com/datasets/jangedoo/utkface-new\n"
   ]
  },
  {
   "cell_type": "markdown",
   "id": "8993032b-2c9c-4a08-8985-2db95e692b74",
   "metadata": {},
   "source": [
    "### Preprocessing Our Raw Data\n",
    "1. Creating dataframe for our features"
   ]
  },
  {
   "cell_type": "code",
   "execution_count": 59,
   "id": "b5e5a99e-2a65-4309-8d47-f4c7a1827566",
   "metadata": {},
   "outputs": [
    {
     "name": "stdout",
     "output_type": "stream",
     "text": [
      "<class 'pandas.core.frame.DataFrame'>\n",
      "RangeIndex: 23708 entries, 0 to 23707\n",
      "Data columns (total 1 columns):\n",
      " #   Column  Non-Null Count  Dtype \n",
      "---  ------  --------------  ----- \n",
      " 0   path    23708 non-null  object\n",
      "dtypes: object(1)\n",
      "memory usage: 185.3+ KB\n"
     ]
    }
   ],
   "source": [
    "import os\n",
    "\n",
    "dir = 'UTKFace'\n",
    "files = [filename for filename in os.listdir(dir)]\n",
    "\n",
    "data = {'path' : files}\n",
    "\n",
    "df = pd.DataFrame(data)\n",
    "\n",
    "df.info()"
   ]
  },
  {
   "cell_type": "markdown",
   "id": "c81f5d11-cf3f-4f08-8bd0-8f459c54e865",
   "metadata": {},
   "source": [
    "The features for this dataset is provided in the filename itself `[age]_[gender]_[race]_[date&time].jpg`"
   ]
  },
  {
   "cell_type": "code",
   "execution_count": 60,
   "id": "a0936d35-5605-4b7c-97df-dc3993f8fe48",
   "metadata": {},
   "outputs": [
    {
     "data": {
      "text/html": [
       "<div>\n",
       "<style scoped>\n",
       "    .dataframe tbody tr th:only-of-type {\n",
       "        vertical-align: middle;\n",
       "    }\n",
       "\n",
       "    .dataframe tbody tr th {\n",
       "        vertical-align: top;\n",
       "    }\n",
       "\n",
       "    .dataframe thead th {\n",
       "        text-align: right;\n",
       "    }\n",
       "</style>\n",
       "<table border=\"1\" class=\"dataframe\">\n",
       "  <thead>\n",
       "    <tr style=\"text-align: right;\">\n",
       "      <th></th>\n",
       "      <th>age</th>\n",
       "      <th>gender</th>\n",
       "      <th>race</th>\n",
       "      <th>date</th>\n",
       "    </tr>\n",
       "  </thead>\n",
       "  <tbody>\n",
       "    <tr>\n",
       "      <th>0</th>\n",
       "      <td>50</td>\n",
       "      <td>0</td>\n",
       "      <td>0</td>\n",
       "      <td>20170117135034485.jpg.chip.jpg</td>\n",
       "    </tr>\n",
       "    <tr>\n",
       "      <th>1</th>\n",
       "      <td>55</td>\n",
       "      <td>0</td>\n",
       "      <td>3</td>\n",
       "      <td>20170119171117830.jpg.chip.jpg</td>\n",
       "    </tr>\n",
       "    <tr>\n",
       "      <th>2</th>\n",
       "      <td>12</td>\n",
       "      <td>0</td>\n",
       "      <td>4</td>\n",
       "      <td>20170103201607807.jpg.chip.jpg</td>\n",
       "    </tr>\n",
       "    <tr>\n",
       "      <th>3</th>\n",
       "      <td>40</td>\n",
       "      <td>0</td>\n",
       "      <td>0</td>\n",
       "      <td>20170117172519480.jpg.chip.jpg</td>\n",
       "    </tr>\n",
       "    <tr>\n",
       "      <th>4</th>\n",
       "      <td>39</td>\n",
       "      <td>1</td>\n",
       "      <td>3</td>\n",
       "      <td>20170104233629347.jpg.chip.jpg</td>\n",
       "    </tr>\n",
       "    <tr>\n",
       "      <th>...</th>\n",
       "      <td>...</td>\n",
       "      <td>...</td>\n",
       "      <td>...</td>\n",
       "      <td>...</td>\n",
       "    </tr>\n",
       "    <tr>\n",
       "      <th>23703</th>\n",
       "      <td>65</td>\n",
       "      <td>0</td>\n",
       "      <td>0</td>\n",
       "      <td>20170111200641250.jpg.chip.jpg</td>\n",
       "    </tr>\n",
       "    <tr>\n",
       "      <th>23704</th>\n",
       "      <td>26</td>\n",
       "      <td>1</td>\n",
       "      <td>0</td>\n",
       "      <td>20170116234741431.jpg.chip.jpg</td>\n",
       "    </tr>\n",
       "    <tr>\n",
       "      <th>23705</th>\n",
       "      <td>55</td>\n",
       "      <td>0</td>\n",
       "      <td>0</td>\n",
       "      <td>20170120140655585.jpg.chip.jpg</td>\n",
       "    </tr>\n",
       "    <tr>\n",
       "      <th>23706</th>\n",
       "      <td>60</td>\n",
       "      <td>1</td>\n",
       "      <td>0</td>\n",
       "      <td>20170110122614299.jpg.chip.jpg</td>\n",
       "    </tr>\n",
       "    <tr>\n",
       "      <th>23707</th>\n",
       "      <td>38</td>\n",
       "      <td>0</td>\n",
       "      <td>1</td>\n",
       "      <td>20170116200942002.jpg.chip.jpg</td>\n",
       "    </tr>\n",
       "  </tbody>\n",
       "</table>\n",
       "<p>23708 rows × 4 columns</p>\n",
       "</div>"
      ],
      "text/plain": [
       "      age gender race                            date\n",
       "0      50      0    0  20170117135034485.jpg.chip.jpg\n",
       "1      55      0    3  20170119171117830.jpg.chip.jpg\n",
       "2      12      0    4  20170103201607807.jpg.chip.jpg\n",
       "3      40      0    0  20170117172519480.jpg.chip.jpg\n",
       "4      39      1    3  20170104233629347.jpg.chip.jpg\n",
       "...    ..    ...  ...                             ...\n",
       "23703  65      0    0  20170111200641250.jpg.chip.jpg\n",
       "23704  26      1    0  20170116234741431.jpg.chip.jpg\n",
       "23705  55      0    0  20170120140655585.jpg.chip.jpg\n",
       "23706  60      1    0  20170110122614299.jpg.chip.jpg\n",
       "23707  38      0    1  20170116200942002.jpg.chip.jpg\n",
       "\n",
       "[23708 rows x 4 columns]"
      ]
     },
     "execution_count": 60,
     "metadata": {},
     "output_type": "execute_result"
    }
   ],
   "source": [
    "## adding extra features to our dataframe\n",
    "\n",
    "temp = []\n",
    "for x in df['path']:\n",
    "    temp.append(x.split('_'))\n",
    "\n",
    "\n",
    "temp = pd.DataFrame(temp)\n",
    "\n",
    "columns = ['age','gender','race','date']\n",
    "\n",
    "temp.columns = columns\n",
    "\n",
    "temp\n",
    "\n"
   ]
  },
  {
   "cell_type": "code",
   "execution_count": 61,
   "id": "14cafeac-e725-4bfe-ab39-5eaa968a1999",
   "metadata": {},
   "outputs": [
    {
     "data": {
      "text/html": [
       "<div>\n",
       "<style scoped>\n",
       "    .dataframe tbody tr th:only-of-type {\n",
       "        vertical-align: middle;\n",
       "    }\n",
       "\n",
       "    .dataframe tbody tr th {\n",
       "        vertical-align: top;\n",
       "    }\n",
       "\n",
       "    .dataframe thead th {\n",
       "        text-align: right;\n",
       "    }\n",
       "</style>\n",
       "<table border=\"1\" class=\"dataframe\">\n",
       "  <thead>\n",
       "    <tr style=\"text-align: right;\">\n",
       "      <th></th>\n",
       "      <th>age</th>\n",
       "      <th>gender</th>\n",
       "      <th>race</th>\n",
       "      <th>path</th>\n",
       "    </tr>\n",
       "  </thead>\n",
       "  <tbody>\n",
       "    <tr>\n",
       "      <th>0</th>\n",
       "      <td>50</td>\n",
       "      <td>0</td>\n",
       "      <td>0</td>\n",
       "      <td>50_0_0_20170117135034485.jpg.chip.jpg</td>\n",
       "    </tr>\n",
       "    <tr>\n",
       "      <th>1</th>\n",
       "      <td>55</td>\n",
       "      <td>0</td>\n",
       "      <td>3</td>\n",
       "      <td>55_0_3_20170119171117830.jpg.chip.jpg</td>\n",
       "    </tr>\n",
       "    <tr>\n",
       "      <th>2</th>\n",
       "      <td>12</td>\n",
       "      <td>0</td>\n",
       "      <td>4</td>\n",
       "      <td>12_0_4_20170103201607807.jpg.chip.jpg</td>\n",
       "    </tr>\n",
       "    <tr>\n",
       "      <th>3</th>\n",
       "      <td>40</td>\n",
       "      <td>0</td>\n",
       "      <td>0</td>\n",
       "      <td>40_0_0_20170117172519480.jpg.chip.jpg</td>\n",
       "    </tr>\n",
       "    <tr>\n",
       "      <th>4</th>\n",
       "      <td>39</td>\n",
       "      <td>1</td>\n",
       "      <td>3</td>\n",
       "      <td>39_1_3_20170104233629347.jpg.chip.jpg</td>\n",
       "    </tr>\n",
       "    <tr>\n",
       "      <th>...</th>\n",
       "      <td>...</td>\n",
       "      <td>...</td>\n",
       "      <td>...</td>\n",
       "      <td>...</td>\n",
       "    </tr>\n",
       "    <tr>\n",
       "      <th>23703</th>\n",
       "      <td>65</td>\n",
       "      <td>0</td>\n",
       "      <td>0</td>\n",
       "      <td>65_0_0_20170111200641250.jpg.chip.jpg</td>\n",
       "    </tr>\n",
       "    <tr>\n",
       "      <th>23704</th>\n",
       "      <td>26</td>\n",
       "      <td>1</td>\n",
       "      <td>0</td>\n",
       "      <td>26_1_0_20170116234741431.jpg.chip.jpg</td>\n",
       "    </tr>\n",
       "    <tr>\n",
       "      <th>23705</th>\n",
       "      <td>55</td>\n",
       "      <td>0</td>\n",
       "      <td>0</td>\n",
       "      <td>55_0_0_20170120140655585.jpg.chip.jpg</td>\n",
       "    </tr>\n",
       "    <tr>\n",
       "      <th>23706</th>\n",
       "      <td>60</td>\n",
       "      <td>1</td>\n",
       "      <td>0</td>\n",
       "      <td>60_1_0_20170110122614299.jpg.chip.jpg</td>\n",
       "    </tr>\n",
       "    <tr>\n",
       "      <th>23707</th>\n",
       "      <td>38</td>\n",
       "      <td>0</td>\n",
       "      <td>1</td>\n",
       "      <td>38_0_1_20170116200942002.jpg.chip.jpg</td>\n",
       "    </tr>\n",
       "  </tbody>\n",
       "</table>\n",
       "<p>23708 rows × 4 columns</p>\n",
       "</div>"
      ],
      "text/plain": [
       "      age gender race                                   path\n",
       "0      50      0    0  50_0_0_20170117135034485.jpg.chip.jpg\n",
       "1      55      0    3  55_0_3_20170119171117830.jpg.chip.jpg\n",
       "2      12      0    4  12_0_4_20170103201607807.jpg.chip.jpg\n",
       "3      40      0    0  40_0_0_20170117172519480.jpg.chip.jpg\n",
       "4      39      1    3  39_1_3_20170104233629347.jpg.chip.jpg\n",
       "...    ..    ...  ...                                    ...\n",
       "23703  65      0    0  65_0_0_20170111200641250.jpg.chip.jpg\n",
       "23704  26      1    0  26_1_0_20170116234741431.jpg.chip.jpg\n",
       "23705  55      0    0  55_0_0_20170120140655585.jpg.chip.jpg\n",
       "23706  60      1    0  60_1_0_20170110122614299.jpg.chip.jpg\n",
       "23707  38      0    1  38_0_1_20170116200942002.jpg.chip.jpg\n",
       "\n",
       "[23708 rows x 4 columns]"
      ]
     },
     "execution_count": 61,
     "metadata": {},
     "output_type": "execute_result"
    }
   ],
   "source": [
    "df = pd.concat([temp,df],axis = 1)\n",
    "\n",
    "df = df.drop(['date'],axis =1) #unnecessary feature\n",
    "\n",
    "df"
   ]
  },
  {
   "cell_type": "markdown",
   "id": "1589542e-bdeb-499d-bb66-6e06b1d59eab",
   "metadata": {},
   "source": [
    "## From MetaData we have following information\n",
    "\n",
    "1. `[age]`is an integer from 0 to 116, indicating the age\n",
    "2. `[gender]` is either 0 (male) or 1 (female)\n",
    "3. `[race]` is an integer from 0 to 4, denoting White, Black, Asian, Indian, and Others (like Hispanic, Latino, Middle Eastern)."
   ]
  },
  {
   "cell_type": "code",
   "execution_count": 62,
   "id": "26ec3143-4514-4890-92ae-16bd95564921",
   "metadata": {},
   "outputs": [],
   "source": [
    "# Creating index map for race\n",
    "\n",
    "race = {0:'White',\n",
    "       1:'Black',\n",
    "       2:'Asian',\n",
    "       3:'Indian',\n",
    "       4:'Others'}\n"
   ]
  },
  {
   "cell_type": "markdown",
   "id": "e61cfb3d-af49-48af-9322-8c2e2b02b87c",
   "metadata": {},
   "source": [
    "### Visualizing Data"
   ]
  },
  {
   "cell_type": "code",
   "execution_count": 68,
   "id": "108ffa8f-b71e-40b8-b110-56c651445b3d",
   "metadata": {},
   "outputs": [
    {
     "name": "stderr",
     "output_type": "stream",
     "text": [
      "/tmp/ipykernel_18191/408349241.py:6: UserWarning: \n",
      "\n",
      "`distplot` is a deprecated function and will be removed in seaborn v0.14.0.\n",
      "\n",
      "Please adapt your code to use either `displot` (a figure-level function with\n",
      "similar flexibility) or `histplot` (an axes-level function for histograms).\n",
      "\n",
      "For a guide to updating your code to use the new functions, please see\n",
      "https://gist.github.com/mwaskom/de44147ed2974457ad6372750bbe5751\n",
      "\n",
      "  sns.distplot(df['age'])\n"
     ]
    },
    {
     "data": {
      "text/plain": [
       "<Axes: xlabel='age', ylabel='Density'>"
      ]
     },
     "execution_count": 68,
     "metadata": {},
     "output_type": "execute_result"
    },
    {
     "data": {
      "image/png": "[encoded data removed]",
      "text/plain": [
       "<Figure size 640x480 with 1 Axes>"
      ]
     },
     "metadata": {},
     "output_type": "display_data"
    }
   ],
   "source": [
    "import matplotlib.pyplot as plt\n",
    "import seaborn as sns\n",
    "\n",
    "#Let's visualize age category first\n",
    "sns.distplot(df['age'])"
   ]
  },
  {
   "cell_type": "code",
   "execution_count": null,
   "id": "0b23fc11-cec8-4bd6-aaa9-3b9ebbdc3a5f",
   "metadata": {},
   "outputs": [],
   "source": []
  }
 ],
 "metadata": {
  "kernelspec": {
   "display_name": "Python 3 (ipykernel)",
   "language": "python",
   "name": "python3"
  },
  "language_info": {
   "codemirror_mode": {
    "name": "ipython",
    "version": 3
   },
   "file_extension": ".py",
   "mimetype": "text/x-python",
   "name": "python",
   "nbconvert_exporter": "python",
   "pygments_lexer": "ipython3",
   "version": "3.10.12"
  }
 },
 "nbformat": 4,
 "nbformat_minor": 5
}
